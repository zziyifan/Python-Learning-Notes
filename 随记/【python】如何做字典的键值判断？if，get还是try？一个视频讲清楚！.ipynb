{
 "cells": [
  {
   "cell_type": "markdown",
   "id": "d129eeab",
   "metadata": {},
   "source": [
    "# 【python】如何做字典的键值判断？if，get还是try？一个视频讲清楚！\n",
    "https://www.bilibili.com/video/BV1MM411w7Te/?spm_id_from=333.1007.tianma.10-1-35.click&vd_source=882dde1237a69bf4ded7503c70cbf577"
   ]
  },
  {
   "cell_type": "code",
   "execution_count": null,
   "id": "25760744",
   "metadata": {},
   "outputs": [],
   "source": [
    "d = {'a':0}\n",
    "\n",
    "x = d['a'] + 1"
   ]
  },
  {
   "cell_type": "markdown",
   "id": "c4b00c66",
   "metadata": {},
   "source": [
    "### 判断这个key是不是在这个字典里, 几种方式"
   ]
  },
  {
   "cell_type": "code",
   "execution_count": null,
   "id": "ee7eaf11",
   "metadata": {},
   "outputs": [],
   "source": [
    "# if \n",
    "if 'a' in d:\n",
    "    x = d['a'] + 1\n",
    "else:\n",
    "    x = 1"
   ]
  },
  {
   "cell_type": "code",
   "execution_count": null,
   "id": "83a81a61",
   "metadata": {},
   "outputs": [],
   "source": [
    "# get(): 如果key存在，就拿key的值；否则就取后面的 default value\n",
    "x = d.get('a', 0) + 1"
   ]
  },
  {
   "cell_type": "code",
   "execution_count": null,
   "id": "fdfce51f",
   "metadata": {},
   "outputs": [],
   "source": [
    "# try except\n",
    "try: \n",
    "    x = d['a'] + 1\n",
    "except KeyError:   #一定要习惯去写具体的error\n",
    "    x = 1"
   ]
  },
  {
   "cell_type": "markdown",
   "id": "49f8ed13",
   "metadata": {},
   "source": [
    "### 那个快，用哪个?"
   ]
  },
  {
   "cell_type": "code",
   "execution_count": 1,
   "id": "f8097b42",
   "metadata": {},
   "outputs": [
    {
     "name": "stdout",
     "output_type": "stream",
     "text": [
      "0.056025999999974374\n",
      "0.05794079999998303\n",
      "0.04482419999999365\n"
     ]
    }
   ],
   "source": [
    "# 写一个Benchmark,用timeit计时\n",
    "\n",
    "import timeit\n",
    "\n",
    "setup = \"d = {'a': 0}\"\n",
    "\n",
    "check_if = \"\"\"\n",
    "if 'a' in d:\n",
    "    x = d['a'] + 1\n",
    "else:\n",
    "    x = 1\n",
    "\"\"\"\n",
    "\n",
    "check_get = \"\"\"\n",
    "x = d.get('a', 0) + 1\n",
    "\"\"\"\n",
    "\n",
    "check_try = \"\"\"\n",
    "try: \n",
    "    x = d['a'] + 1\n",
    "except KeyError:   #一定要习惯去写具体的error\n",
    "    x = 1\n",
    "\"\"\"\n",
    "\n",
    "print(timeit.timeit(check_if, setup = setup))\n",
    "print(timeit.timeit(check_get, setup = setup))\n",
    "print(timeit.timeit(check_try, setup = setup))   # 正常运行时（没有exception），运行最快"
   ]
  },
  {
   "cell_type": "markdown",
   "id": "62dfec9e",
   "metadata": {},
   "source": [
    "### 小结"
   ]
  },
  {
   "cell_type": "markdown",
   "id": "7c59ec44",
   "metadata": {},
   "source": [
    "普通情况推荐用get，因为语义最清晰易读\n",
    "\n",
    "\n",
    "特殊情况，用try"
   ]
  },
  {
   "cell_type": "code",
   "execution_count": null,
   "id": "db1b60d3",
   "metadata": {},
   "outputs": [],
   "source": []
  },
  {
   "cell_type": "code",
   "execution_count": null,
   "id": "3f20bc23",
   "metadata": {},
   "outputs": [],
   "source": []
  },
  {
   "cell_type": "code",
   "execution_count": null,
   "id": "bc1e4902",
   "metadata": {},
   "outputs": [],
   "source": []
  }
 ],
 "metadata": {
  "kernelspec": {
   "display_name": "Python 3 (ipykernel)",
   "language": "python",
   "name": "python3"
  },
  "language_info": {
   "codemirror_mode": {
    "name": "ipython",
    "version": 3
   },
   "file_extension": ".py",
   "mimetype": "text/x-python",
   "name": "python",
   "nbconvert_exporter": "python",
   "pygments_lexer": "ipython3",
   "version": "3.9.5"
  }
 },
 "nbformat": 4,
 "nbformat_minor": 5
}
